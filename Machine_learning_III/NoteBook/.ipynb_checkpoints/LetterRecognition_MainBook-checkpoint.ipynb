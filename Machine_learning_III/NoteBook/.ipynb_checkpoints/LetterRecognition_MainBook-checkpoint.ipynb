{
 "cells": [
  {
   "cell_type": "markdown",
   "metadata": {},
   "source": [
    "# Letter Recognition : Building Letter Recognition ML model\n",
    "## ML III _ Project\n",
    "\n",
    "### Notebook by Yogesh Chandra Ramakrishna\n",
    "#### Supported by [Birsa Anand](https://www.insaid.co/)\n",
    "\n",
    "#### Source of the Data : INSAID"
   ]
  },
  {
   "cell_type": "markdown",
   "metadata": {},
   "source": [
    "<a id=Index><a/>"
   ]
  },
  {
   "cell_type": "markdown",
   "metadata": {},
   "source": [
    "## Table of Contents\n",
    "\n",
    "1. [Introduction](#Introduction)<br/>\n",
    "2. [Required libraries](#Required-libraries)<br/>\n",
    "3. [Problem Statement](#section3)<br/>\n",
    "4. [Data Loading and Description](#section4)<br/>\n",
    "5. [Data Profiling](#section5)<br/>\n",
    "    - 5.1 [Understanding the Dataset](#section501)<br/>\n",
    "    - 5.2 [Processing](#section502)<br/>\n",
    "    - 5.3 [Skew and Kurt](#section503)<br/>\n",
    "    - 5.4 [Correlation](#section504)<br/>\n",
    "6. [Exploratory Data Analysis](#section6)<br/>\n",
    "    - 6.1 [UNIVARIATE ANALYSIS OF THE TARGET FIELD](#section601)<br/>\n",
    "    - 6.2 [Sample Correlation](#section602)<br/>\n",
    "    - 6.3 [Multicollinearity](#section603)<br/>\n",
    "7. [Dimensionality Reduction and Outliers](#section7)<br/>\n",
    "    - 7.1 [Dimensionality Reduction using PCA](#section701)<br/>\n",
    "8. [Machine Learning Model](#section8)<br/>\n",
    "    - 8.1 [Working with PCA Data Set](#section801)<br/>\n",
    "    - 8.2 [Working with complete Data Set](#section802)<br/>\n",
    "9. [Model Selection](#section9)<br/>\n",
    "10. [Conclusion and Reference](#section10)<br/>"
   ]
  },
  {
   "cell_type": "markdown",
   "metadata": {},
   "source": [
    "<a id=Introduction><a/>"
   ]
  },
  {
   "cell_type": "markdown",
   "metadata": {},
   "source": [
    "## 1. Introduction"
   ]
  },
  {
   "cell_type": "markdown",
   "metadata": {},
   "source": [
    "The notebooks explores the basic use of __Numpy__,__Pandas__, __Seaborn__ and will cover the basic commands of __Exploratory Data Analysis(EDA)__ which includes __cleaning__, __munging__, __combining__, __reshaping__, __slicing__, __dicing__, and __transforming data__ for analysis purpose.\n",
    "\n",
    "And also we will be using __scikit learn__ and various __Machine Learning__ models, to build a predictive model, I will be doing some Statistical analysys to make this Model as accurate as possible.\n",
    "\n",
    "\n",
    "* __Exploratory Data Analysis__ <br/>\n",
    "Understand the data by EDA and derive simple models with Pandas as baseline.\n",
    "EDA ia a critical and first step in analyzing the data and we do this for below reasons :\n",
    "    - Finding patterns in Data\n",
    "    - Determining relationships in Data\n",
    "    - Checking of assumptions\n",
    "    - Preliminary selection of appropriate models\n",
    "    - Detection of mistakes\n",
    "    \n",
    "    \n",
    "* __Statistical Overview__ <br/>\n",
    "Statistical tests are the scientific way to prove the validation of theories. In any case, when we look at the data, we seem to have an intuitive understanding of where data is leading us. However, when we do statistical tests, we get a scientific or mathematical perspective of how significant these results are. Let's apply some of the tests and see how we are doing with our predictions.\n",
    "\n",
    "\n",
    "* __Machine Learning Modeling__ <br/>\n",
    "The process of training an ML model involves providing an ML algorithm (that is, the learning algorithm) with training data to learn from. The term ML model refers to the model artifact that is created by the training process."
   ]
  },
  {
   "cell_type": "code",
   "execution_count": null,
   "metadata": {},
   "outputs": [],
   "source": []
  }
 ],
 "metadata": {
  "kernelspec": {
   "display_name": "Python 3",
   "language": "python",
   "name": "python3"
  },
  "language_info": {
   "codemirror_mode": {
    "name": "ipython",
    "version": 3
   },
   "file_extension": ".py",
   "mimetype": "text/x-python",
   "name": "python",
   "nbconvert_exporter": "python",
   "pygments_lexer": "ipython3",
   "version": "3.6.5"
  }
 },
 "nbformat": 4,
 "nbformat_minor": 2
}
