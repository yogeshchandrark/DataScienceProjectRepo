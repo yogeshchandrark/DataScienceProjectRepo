{
 "cells": [
  {
   "cell_type": "code",
   "execution_count": 10,
   "metadata": {},
   "outputs": [],
   "source": [
    "import pandas as pd\n",
    "import numpy as np"
   ]
  },
  {
   "cell_type": "code",
   "execution_count": 2,
   "metadata": {},
   "outputs": [],
   "source": [
    "loy = pd.read_csv('../RawData/historical_transactions.csv')"
   ]
  },
  {
   "cell_type": "code",
   "execution_count": 3,
   "metadata": {},
   "outputs": [
    {
     "name": "stdout",
     "output_type": "stream",
     "text": [
      "<class 'pandas.core.frame.DataFrame'>\n",
      "RangeIndex: 103617 entries, 0 to 103616\n",
      "Data columns (total 14 columns):\n",
      "authorized_flag         103617 non-null object\n",
      "card_id                 103617 non-null object\n",
      "city_id                 103617 non-null int64\n",
      "category_1              103617 non-null object\n",
      "installments            103617 non-null int64\n",
      "category_3              102970 non-null object\n",
      "merchant_category_id    103617 non-null int64\n",
      "merchant_id             103159 non-null object\n",
      "month_lag               103617 non-null int64\n",
      "purchase_amount         103617 non-null float64\n",
      "purchase_date           103617 non-null object\n",
      "category_2              94284 non-null float64\n",
      "state_id                103617 non-null int64\n",
      "subsector_id            103617 non-null int64\n",
      "dtypes: float64(2), int64(6), object(6)\n",
      "memory usage: 11.1+ MB\n"
     ]
    }
   ],
   "source": [
    "loy.info()"
   ]
  },
  {
   "cell_type": "code",
   "execution_count": 5,
   "metadata": {},
   "outputs": [
    {
     "data": {
      "text/plain": [
       "float64    2\n",
       "int64      6\n",
       "object     6\n",
       "dtype: int64"
      ]
     },
     "execution_count": 5,
     "metadata": {},
     "output_type": "execute_result"
    }
   ],
   "source": [
    "loy.get_dtype_counts()"
   ]
  },
  {
   "cell_type": "code",
   "execution_count": 6,
   "metadata": {},
   "outputs": [
    {
     "data": {
      "text/html": [
       "<div>\n",
       "<style scoped>\n",
       "    .dataframe tbody tr th:only-of-type {\n",
       "        vertical-align: middle;\n",
       "    }\n",
       "\n",
       "    .dataframe tbody tr th {\n",
       "        vertical-align: top;\n",
       "    }\n",
       "\n",
       "    .dataframe thead th {\n",
       "        text-align: right;\n",
       "    }\n",
       "</style>\n",
       "<table border=\"1\" class=\"dataframe\">\n",
       "  <thead>\n",
       "    <tr style=\"text-align: right;\">\n",
       "      <th></th>\n",
       "      <th>authorized_flag</th>\n",
       "      <th>card_id</th>\n",
       "      <th>city_id</th>\n",
       "      <th>category_1</th>\n",
       "      <th>installments</th>\n",
       "      <th>category_3</th>\n",
       "      <th>merchant_category_id</th>\n",
       "      <th>merchant_id</th>\n",
       "      <th>month_lag</th>\n",
       "      <th>purchase_amount</th>\n",
       "      <th>purchase_date</th>\n",
       "      <th>category_2</th>\n",
       "      <th>state_id</th>\n",
       "      <th>subsector_id</th>\n",
       "    </tr>\n",
       "  </thead>\n",
       "  <tbody>\n",
       "    <tr>\n",
       "      <th>0</th>\n",
       "      <td>Y</td>\n",
       "      <td>C_ID_ea299331ff</td>\n",
       "      <td>200</td>\n",
       "      <td>N</td>\n",
       "      <td>0</td>\n",
       "      <td>A</td>\n",
       "      <td>690</td>\n",
       "      <td>M_ID_7ecb602096</td>\n",
       "      <td>-5</td>\n",
       "      <td>-0.351846</td>\n",
       "      <td>2017-09-15 21:15:41</td>\n",
       "      <td>2.0</td>\n",
       "      <td>18</td>\n",
       "      <td>1</td>\n",
       "    </tr>\n",
       "    <tr>\n",
       "      <th>1</th>\n",
       "      <td>Y</td>\n",
       "      <td>C_ID_ea299331ff</td>\n",
       "      <td>200</td>\n",
       "      <td>N</td>\n",
       "      <td>0</td>\n",
       "      <td>A</td>\n",
       "      <td>705</td>\n",
       "      <td>M_ID_e95b1970c2</td>\n",
       "      <td>-10</td>\n",
       "      <td>-0.603029</td>\n",
       "      <td>2017-04-29 09:46:35</td>\n",
       "      <td>2.0</td>\n",
       "      <td>18</td>\n",
       "      <td>33</td>\n",
       "    </tr>\n",
       "    <tr>\n",
       "      <th>2</th>\n",
       "      <td>Y</td>\n",
       "      <td>C_ID_ea299331ff</td>\n",
       "      <td>200</td>\n",
       "      <td>N</td>\n",
       "      <td>0</td>\n",
       "      <td>A</td>\n",
       "      <td>307</td>\n",
       "      <td>M_ID_77d5389a7e</td>\n",
       "      <td>-3</td>\n",
       "      <td>-0.656749</td>\n",
       "      <td>2017-11-29 00:00:00</td>\n",
       "      <td>2.0</td>\n",
       "      <td>18</td>\n",
       "      <td>19</td>\n",
       "    </tr>\n",
       "    <tr>\n",
       "      <th>3</th>\n",
       "      <td>Y</td>\n",
       "      <td>C_ID_ea299331ff</td>\n",
       "      <td>200</td>\n",
       "      <td>N</td>\n",
       "      <td>0</td>\n",
       "      <td>A</td>\n",
       "      <td>705</td>\n",
       "      <td>M_ID_e95b1970c2</td>\n",
       "      <td>-4</td>\n",
       "      <td>-0.557754</td>\n",
       "      <td>2017-10-04 13:45:29</td>\n",
       "      <td>2.0</td>\n",
       "      <td>18</td>\n",
       "      <td>33</td>\n",
       "    </tr>\n",
       "    <tr>\n",
       "      <th>4</th>\n",
       "      <td>Y</td>\n",
       "      <td>C_ID_ea299331ff</td>\n",
       "      <td>200</td>\n",
       "      <td>N</td>\n",
       "      <td>0</td>\n",
       "      <td>A</td>\n",
       "      <td>705</td>\n",
       "      <td>M_ID_9a24c5f117</td>\n",
       "      <td>0</td>\n",
       "      <td>-0.603375</td>\n",
       "      <td>2018-02-28 11:38:42</td>\n",
       "      <td>2.0</td>\n",
       "      <td>18</td>\n",
       "      <td>33</td>\n",
       "    </tr>\n",
       "  </tbody>\n",
       "</table>\n",
       "</div>"
      ],
      "text/plain": [
       "  authorized_flag          card_id  city_id category_1  installments  \\\n",
       "0               Y  C_ID_ea299331ff      200          N             0   \n",
       "1               Y  C_ID_ea299331ff      200          N             0   \n",
       "2               Y  C_ID_ea299331ff      200          N             0   \n",
       "3               Y  C_ID_ea299331ff      200          N             0   \n",
       "4               Y  C_ID_ea299331ff      200          N             0   \n",
       "\n",
       "  category_3  merchant_category_id      merchant_id  month_lag  \\\n",
       "0          A                   690  M_ID_7ecb602096         -5   \n",
       "1          A                   705  M_ID_e95b1970c2        -10   \n",
       "2          A                   307  M_ID_77d5389a7e         -3   \n",
       "3          A                   705  M_ID_e95b1970c2         -4   \n",
       "4          A                   705  M_ID_9a24c5f117          0   \n",
       "\n",
       "   purchase_amount        purchase_date  category_2  state_id  subsector_id  \n",
       "0        -0.351846  2017-09-15 21:15:41         2.0        18             1  \n",
       "1        -0.603029  2017-04-29 09:46:35         2.0        18            33  \n",
       "2        -0.656749  2017-11-29 00:00:00         2.0        18            19  \n",
       "3        -0.557754  2017-10-04 13:45:29         2.0        18            33  \n",
       "4        -0.603375  2018-02-28 11:38:42         2.0        18            33  "
      ]
     },
     "execution_count": 6,
     "metadata": {},
     "output_type": "execute_result"
    }
   ],
   "source": [
    "loy.head()"
   ]
  },
  {
   "cell_type": "code",
   "execution_count": 12,
   "metadata": {},
   "outputs": [
    {
     "data": {
      "text/plain": [
       "array(['C_ID_ea299331ff', 'C_ID_16e1a96d67', 'C_ID_f376c2cdd0', ...,\n",
       "       'C_ID_f0975077c6', 'C_ID_8080d9dd06', 'C_ID_37e23fe25f'],\n",
       "      dtype=object)"
      ]
     },
     "execution_count": 12,
     "metadata": {},
     "output_type": "execute_result"
    }
   ],
   "source": [
    "loy['card_id'].unique()"
   ]
  },
  {
   "cell_type": "code",
   "execution_count": 14,
   "metadata": {},
   "outputs": [
    {
     "data": {
      "text/plain": [
       " 69     17086\n",
       "-1       8657\n",
       " 17      4929\n",
       " 158     4532\n",
       " 19      3047\n",
       " 331     2756\n",
       " 333     2303\n",
       " 87      1917\n",
       " 137     1812\n",
       " 57      1670\n",
       " 25      1631\n",
       " 161     1615\n",
       " 53      1517\n",
       " 88      1514\n",
       " 143     1436\n",
       " 160     1256\n",
       " 322     1199\n",
       " 76      1096\n",
       " 233     1034\n",
       " 286      967\n",
       " 4        950\n",
       " 212      853\n",
       " 149      804\n",
       " 277      774\n",
       " 20       750\n",
       " 274      737\n",
       " 117      726\n",
       " 344      710\n",
       " 291      710\n",
       " 140      691\n",
       "        ...  \n",
       " 123        6\n",
       " 186        6\n",
       " 91         6\n",
       " 139        6\n",
       " 220        5\n",
       " 130        5\n",
       " 28         5\n",
       " 338        4\n",
       " 182        4\n",
       " 44         3\n",
       " 345        3\n",
       " 312        3\n",
       " 142        3\n",
       " 226        2\n",
       " 77         2\n",
       " 263        2\n",
       " 71         2\n",
       " 206        2\n",
       " 208        2\n",
       " 309        2\n",
       " 197        1\n",
       " 178        1\n",
       " 273        1\n",
       " 129        1\n",
       " 254        1\n",
       " 32         1\n",
       " 47         1\n",
       " 222        1\n",
       " 183        1\n",
       " 83         1\n",
       "Name: city_id, Length: 296, dtype: int64"
      ]
     },
     "execution_count": 14,
     "metadata": {},
     "output_type": "execute_result"
    }
   ],
   "source": [
    "loy['city_id'].value_counts()"
   ]
  },
  {
   "cell_type": "code",
   "execution_count": 15,
   "metadata": {},
   "outputs": [
    {
     "data": {
      "text/plain": [
       "Y    94755\n",
       "N     8862\n",
       "Name: authorized_flag, dtype: int64"
      ]
     },
     "execution_count": 15,
     "metadata": {},
     "output_type": "execute_result"
    }
   ],
   "source": [
    "loy['authorized_flag'].value_counts()"
   ]
  },
  {
   "cell_type": "code",
   "execution_count": null,
   "metadata": {},
   "outputs": [],
   "source": []
  }
 ],
 "metadata": {
  "kernelspec": {
   "display_name": "Python 3",
   "language": "python",
   "name": "python3"
  },
  "language_info": {
   "codemirror_mode": {
    "name": "ipython",
    "version": 3
   },
   "file_extension": ".py",
   "mimetype": "text/x-python",
   "name": "python",
   "nbconvert_exporter": "python",
   "pygments_lexer": "ipython3",
   "version": "3.6.5"
  }
 },
 "nbformat": 4,
 "nbformat_minor": 2
}
